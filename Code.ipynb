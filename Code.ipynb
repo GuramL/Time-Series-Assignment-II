{
 "cells": [
  {
   "cell_type": "code",
   "execution_count": 15,
   "metadata": {},
   "outputs": [
    {
     "name": "stdout",
     "output_type": "stream",
     "text": [
      "                            AutoReg Model Results                             \n",
      "==============================================================================\n",
      "Dep. Variable:                 growth   No. Observations:                   66\n",
      "Model:                     AutoReg(4)   Log Likelihood                 156.972\n",
      "Method:               Conditional MLE   S.D. of innovations              0.019\n",
      "Date:                Thu, 12 Sep 2024   AIC                           -301.944\n",
      "Time:                        18:42:27   BIC                           -289.181\n",
      "Sample:                             4   HQIC                          -296.933\n",
      "                                   66                                         \n",
      "==============================================================================\n",
      "                 coef    std err          z      P>|z|      [0.025      0.975]\n",
      "------------------------------------------------------------------------------\n",
      "const          0.0073      0.003      2.252      0.024       0.001       0.014\n",
      "growth.L1      1.4266      0.174      8.189      0.000       1.085       1.768\n",
      "growth.L2     -0.5496      0.258     -2.130      0.033      -1.055      -0.044\n",
      "growth.L3     -0.0075      0.237     -0.032      0.975      -0.472       0.457\n",
      "growth.L4     -0.0629      0.135     -0.467      0.641      -0.327       0.201\n",
      "                                    Roots                                    \n",
      "=============================================================================\n",
      "                  Real          Imaginary           Modulus         Frequency\n",
      "-----------------------------------------------------------------------------\n",
      "AR.1            1.0551           -0.4440j            1.1447           -0.0634\n",
      "AR.2            1.0551           +0.4440j            1.1447            0.0634\n",
      "AR.3           -1.1147           -3.2990j            3.4822           -0.3019\n",
      "AR.4           -1.1147           +3.2990j            3.4822            0.3019\n",
      "-----------------------------------------------------------------------------\n"
     ]
    }
   ],
   "source": [
    "########################   Part b  ########################\n",
    "\n",
    "# Import required libraries\n",
    "import pandas as pd\n",
    "from statsmodels.tsa.ar_model import AutoReg \n",
    "\n",
    "file_path = r'Data to use.xlsx'\n",
    "data = pd.read_excel(file_path)\n",
    "\n",
    "# Check if the column 'growth' exists\n",
    "if 'growth' in data.columns:\n",
    "    # Assuming the time series data is in a column named 'growth'\n",
    "    time_series = data['growth'].dropna()  # Drop missing values if any\n",
    "\n",
    "    # Fit an AR(4) model\n",
    "    model = AutoReg(time_series, lags=4)\n",
    "    model_fit = model.fit(cov_type='HC0')\n",
    "\n",
    "    # Print the model summary\n",
    "    print(model_fit.summary())\n",
    "else:\n",
    "    print(\"'growth' column not found in the Excel file.\")\n",
    "\n"
   ]
  },
  {
   "cell_type": "code",
   "execution_count": 18,
   "metadata": {},
   "outputs": [
    {
     "name": "stdout",
     "output_type": "stream",
     "text": [
      "                            AutoReg Model Results                             \n",
      "==============================================================================\n",
      "Dep. Variable:                 growth   No. Observations:                   66\n",
      "Model:                     AutoReg(4)   Log Likelihood                 156.972\n",
      "Method:               Conditional MLE   S.D. of innovations              0.019\n",
      "Date:                Thu, 12 Sep 2024   AIC                           -301.944\n",
      "Time:                        18:44:49   BIC                           -289.181\n",
      "Sample:                             4   HQIC                          -296.933\n",
      "                                   66                                         \n",
      "==============================================================================\n",
      "                 coef    std err          z      P>|z|      [0.025      0.975]\n",
      "------------------------------------------------------------------------------\n",
      "const          0.0073      0.003      2.284      0.022       0.001       0.014\n",
      "growth.L1      1.4266      0.198      7.213      0.000       1.039       1.814\n",
      "growth.L2     -0.5496      0.235     -2.341      0.019      -1.010      -0.090\n",
      "growth.L3     -0.0075      0.143     -0.052      0.958      -0.288       0.273\n",
      "growth.L4     -0.0629      0.092     -0.687      0.492      -0.242       0.117\n",
      "                                    Roots                                    \n",
      "=============================================================================\n",
      "                  Real          Imaginary           Modulus         Frequency\n",
      "-----------------------------------------------------------------------------\n",
      "AR.1            1.0551           -0.4440j            1.1447           -0.0634\n",
      "AR.2            1.0551           +0.4440j            1.1447            0.0634\n",
      "AR.3           -1.1147           -3.2990j            3.4822           -0.3019\n",
      "AR.4           -1.1147           +3.2990j            3.4822            0.3019\n",
      "-----------------------------------------------------------------------------\n"
     ]
    }
   ],
   "source": [
    "########################   Part c  ########################\n",
    "\n",
    "model2 = AutoReg(time_series, lags=4)\n",
    "model_fit2 = model2.fit(cov_type='HAC', cov_kwds={'maxlags': 5})  # Newey-West standard errors with M=5\n",
    "\n",
    "print(model_fit2.summary())"
   ]
  }
 ],
 "metadata": {
  "kernelspec": {
   "display_name": "Python 3",
   "language": "python",
   "name": "python3"
  },
  "language_info": {
   "codemirror_mode": {
    "name": "ipython",
    "version": 3
   },
   "file_extension": ".py",
   "mimetype": "text/x-python",
   "name": "python",
   "nbconvert_exporter": "python",
   "pygments_lexer": "ipython3",
   "version": "3.12.1"
  }
 },
 "nbformat": 4,
 "nbformat_minor": 2
}
