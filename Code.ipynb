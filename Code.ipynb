{
 "cells": [
  {
   "cell_type": "code",
   "execution_count": 1,
   "metadata": {},
   "outputs": [
    {
     "name": "stdout",
     "output_type": "stream",
     "text": [
      "                            AutoReg Model Results                             \n",
      "==============================================================================\n",
      "Dep. Variable:                 growth   No. Observations:                   69\n",
      "Model:                     AutoReg(4)   Log Likelihood                 149.021\n",
      "Method:               Conditional MLE   S.D. of innovations              0.024\n",
      "Date:                Tue, 17 Sep 2024   AIC                           -286.043\n",
      "Time:                        00:33:05   BIC                           -272.996\n",
      "Sample:                             4   HQIC                          -280.895\n",
      "                                   69                                         \n",
      "==============================================================================\n",
      "                 coef    std err          z      P>|z|      [0.025      0.975]\n",
      "------------------------------------------------------------------------------\n",
      "const          0.0053      0.005      0.981      0.327      -0.005       0.016\n",
      "growth.L1     -0.0055      0.118     -0.047      0.963      -0.237       0.226\n",
      "growth.L2     -0.0112      0.063     -0.178      0.859      -0.135       0.113\n",
      "growth.L3     -0.1959      0.065     -3.013      0.003      -0.323      -0.068\n",
      "growth.L4      0.7750      0.107      7.241      0.000       0.565       0.985\n",
      "                                    Roots                                    \n",
      "=============================================================================\n",
      "                  Real          Imaginary           Modulus         Frequency\n",
      "-----------------------------------------------------------------------------\n",
      "AR.1           -1.0094           -0.0000j            1.0094           -0.5000\n",
      "AR.2            0.0608           -1.0569j            1.0587           -0.2409\n",
      "AR.3            0.0608           +1.0569j            1.0587            0.2409\n",
      "AR.4            1.1406           -0.0000j            1.1406           -0.0000\n",
      "-----------------------------------------------------------------------------\n"
     ]
    }
   ],
   "source": [
    "########################   Part b  ########################\n",
    "\n",
    "# Import required libraries\n",
    "import pandas as pd\n",
    "from statsmodels.tsa.ar_model import AutoReg \n",
    "import numpy as np\n",
    "\n",
    "file_path = r'Data to use.xlsx'\n",
    "data = pd.read_excel(file_path)\n",
    "\n",
    "# Check if the column 'growth' exists\n",
    "if 'growth' in data.columns:\n",
    "    # Assuming the time series data is in a column named 'growth'\n",
    "    time_series = data['growth'].dropna()  # Drop missing values if any\n",
    "\n",
    "    # Fit an AR(4) model\n",
    "    model = AutoReg(time_series, lags=4)\n",
    "    model_fit = model.fit(cov_type='HC0')\n",
    "\n",
    "    # Print the model summary\n",
    "    print(model_fit.summary())\n",
    "else:\n",
    "    print(\"'growth' column not found in the Excel file.\")\n",
    "\n"
   ]
  },
  {
   "cell_type": "code",
   "execution_count": 2,
   "metadata": {},
   "outputs": [
    {
     "name": "stdout",
     "output_type": "stream",
     "text": [
      "                            AutoReg Model Results                             \n",
      "==============================================================================\n",
      "Dep. Variable:                 growth   No. Observations:                   69\n",
      "Model:                     AutoReg(4)   Log Likelihood                 149.021\n",
      "Method:               Conditional MLE   S.D. of innovations              0.024\n",
      "Date:                Tue, 17 Sep 2024   AIC                           -286.043\n",
      "Time:                        00:33:09   BIC                           -272.996\n",
      "Sample:                             4   HQIC                          -280.895\n",
      "                                   69                                         \n",
      "==============================================================================\n",
      "                 coef    std err          z      P>|z|      [0.025      0.975]\n",
      "------------------------------------------------------------------------------\n",
      "const          0.0053      0.007      0.740      0.459      -0.009       0.019\n",
      "growth.L1     -0.0055      0.125     -0.044      0.965      -0.250       0.239\n",
      "growth.L2     -0.0112      0.067     -0.168      0.866      -0.142       0.120\n",
      "growth.L3     -0.1959      0.062     -3.164      0.002      -0.317      -0.075\n",
      "growth.L4      0.7750      0.100      7.765      0.000       0.579       0.971\n",
      "                                    Roots                                    \n",
      "=============================================================================\n",
      "                  Real          Imaginary           Modulus         Frequency\n",
      "-----------------------------------------------------------------------------\n",
      "AR.1           -1.0094           -0.0000j            1.0094           -0.5000\n",
      "AR.2            0.0608           -1.0569j            1.0587           -0.2409\n",
      "AR.3            0.0608           +1.0569j            1.0587            0.2409\n",
      "AR.4            1.1406           -0.0000j            1.1406           -0.0000\n",
      "-----------------------------------------------------------------------------\n"
     ]
    }
   ],
   "source": [
    "########################   Part c  ########################\n",
    "\n",
    "model2 = AutoReg(time_series, lags=4)\n",
    "model_fit2 = model2.fit(cov_type='HAC', cov_kwds={'maxlags': 5})  # Newey-West standard errors with M=5\n",
    "\n",
    "print(model_fit2.summary())"
   ]
  },
  {
   "cell_type": "code",
   "execution_count": 3,
   "metadata": {},
   "outputs": [
    {
     "name": "stdout",
     "output_type": "stream",
     "text": [
      "Impulse Response Function (for j = 1 to 10): [-0.00551095 -0.01123876 -0.19587338  0.77498848 -0.0041391   0.02096938\n",
      " -0.30366827  0.60285571 -0.00722455  0.06899602]\n"
     ]
    },
    {
     "name": "stderr",
     "output_type": "stream",
     "text": [
      "/tmp/ipykernel_2244/3530153704.py:13: FutureWarning: Series.__getitem__ treating keys as positions is deprecated. In a future version, integer keys will always be treated as labels (consistent with DataFrame behavior). To access a value by position, use `ser.iloc[pos]`\n",
      "  irf[j] = shock * ar_coeffs[j]\n",
      "/tmp/ipykernel_2244/3530153704.py:15: FutureWarning: Series.__getitem__ treating keys as positions is deprecated. In a future version, integer keys will always be treated as labels (consistent with DataFrame behavior). To access a value by position, use `ser.iloc[pos]`\n",
      "  irf[j] = np.sum([ar_coeffs[k] * irf[j - k - 1] for k in range(len(ar_coeffs))])\n"
     ]
    }
   ],
   "source": [
    "###################### Part e ######################\n",
    "\n",
    "# Initialize an array to store the impulse response values for j = 1 to 10\n",
    "irf = np.zeros(10)\n",
    "\n",
    "ar_coeffs = model_fit2.params[1:]\n",
    "# Set the initial impulse (shock) to 1 at j=0\n",
    "shock = 1\n",
    "\n",
    "# Compute the impulse response for each period j = 1 to 10\n",
    "for j in range(10):\n",
    "    if j < len(ar_coeffs):\n",
    "        irf[j] = shock * ar_coeffs[j]\n",
    "    else:\n",
    "        irf[j] = np.sum([ar_coeffs[k] * irf[j - k - 1] for k in range(len(ar_coeffs))])\n",
    "\n",
    "# Print the impulse response values\n",
    "print(\"Impulse Response Function (for j = 1 to 10):\", irf)"
   ]
  },
  {
   "cell_type": "code",
   "execution_count": null,
   "metadata": {},
   "outputs": [],
   "source": []
  }
 ],
 "metadata": {
  "kernelspec": {
   "display_name": "Python 3",
   "language": "python",
   "name": "python3"
  },
  "language_info": {
   "codemirror_mode": {
    "name": "ipython",
    "version": 3
   },
   "file_extension": ".py",
   "mimetype": "text/x-python",
   "name": "python",
   "nbconvert_exporter": "python",
   "pygments_lexer": "ipython3",
   "version": "3.12.1"
  }
 },
 "nbformat": 4,
 "nbformat_minor": 2
}
